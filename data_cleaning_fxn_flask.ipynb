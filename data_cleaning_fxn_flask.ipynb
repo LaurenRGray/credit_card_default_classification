{
 "cells": [
  {
   "cell_type": "code",
   "execution_count": null,
   "metadata": {},
   "outputs": [],
   "source": [
    "# remove unecessary columns and reorder necessary columns\n",
    "new_columns = ['default_payment_next_month', 'age', 'sex', 'marital_status', 'education_level',  \n",
    "               'bill_amt_1', 'bill_amt_2', 'bill_amt_3', 'bill_amt_4', 'bill_amt_5', 'bill_amt_6', \n",
    "               'pay_0', 'pay_2', 'pay_3', 'pay_4', 'pay_5', 'pay_6', \n",
    "               'pay_amt_1', 'pay_amt_2', 'pay_amt_3', 'pay_amt_4', 'pay_amt_5', 'pay_amt_6', \n",
    "               'limit_balance']\n",
    "\n",
    "model_data = df[new_columns]\n",
    "\n",
    "\n",
    "\n",
    "# where pay_columns have a value < 0, change to 0\n",
    "# ASSUMPTION: if pay columns have a negative value, customer paid on time\n",
    "pay_columns = ['pay_0', 'pay_2', 'pay_3', 'pay_4', 'pay_5', 'pay_6']\n",
    "\n",
    "for column in pay_columns:\n",
    "    model_data.loc[model_data[column] < 0, column] = 0\n",
    "    \n",
    "    \n",
    "    \n",
    "# sex: replace female=2 with female=0 to prepare for creating dummy variables\n",
    "model_data['sex2'] = np.where(model_data['sex'] > 1, 0, model_data['sex']) # female = 0, male = 1\n",
    "# drop original 'sex' column\n",
    "model_data.drop(columns=['sex'], axis=1, inplace=True)\n",
    "# rename 'sex2' to 'sex'\n",
    "model_data.rename(columns={'sex2': 'sex'}, inplace=True)\n",
    "\n",
    "\n",
    "\n",
    "# replace marital_status numerical values with categorical labels to prepare for dummy encoding\n",
    "model_data['marital_status'] = model_data['marital_status'].map({1: 'married', 2: 'single', 3: 'others'})\n",
    "\n",
    "\n",
    "\n",
    "# replace education level numerical values with categorical labels to prepare for dummy variables\n",
    "model_data['education_level'] = model_data['education_level'].map({1: 3, 2: 2, 3: 1, 4: 0, 5: 0, 6: 0})\n",
    "\n",
    "\n",
    "# convert martial_status to dummy variables\n",
    "dummy = pd.get_dummies(model_data['marital_status'], drop_first = True)\n",
    "model_data = pd.concat([model_data,dummy], axis=1).drop(columns='marital_status')\n",
    "\n",
    "\n",
    "\n",
    "# drop rows with nulls\n",
    "model_data.dropna(axis=0, inplace = True)\n",
    "\n",
    "\n",
    "\n",
    "# pickle the data\n",
    "with open ('cleaned_cc_default_data', 'wb') as f:\n",
    "    pickle.dump(model_data, f)\n",
    "    "
   ]
  }
 ],
 "metadata": {
  "kernelspec": {
   "display_name": "Python 3",
   "language": "python",
   "name": "python3"
  },
  "language_info": {
   "codemirror_mode": {
    "name": "ipython",
    "version": 3
   },
   "file_extension": ".py",
   "mimetype": "text/x-python",
   "name": "python",
   "nbconvert_exporter": "python",
   "pygments_lexer": "ipython3",
   "version": "3.7.2"
  }
 },
 "nbformat": 4,
 "nbformat_minor": 2
}
