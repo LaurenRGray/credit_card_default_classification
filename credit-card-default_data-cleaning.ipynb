{
 "cells": [
  {
   "cell_type": "code",
   "execution_count": 1,
   "metadata": {},
   "outputs": [],
   "source": [
    "import numpy as np\n",
    "import pandas as pd\n",
    "import pickle\n",
    "\n",
    "pd.set_option('display.max_columns', None)\n",
    "pd.set_option('display.max_rows', None)"
   ]
  },
  {
   "cell_type": "code",
   "execution_count": 2,
   "metadata": {},
   "outputs": [],
   "source": [
    "df = pd.read_json('/Users/laurenfinkelstein/Metis/Projects/Project 3/credit_payment_default/results-20190430-210539.json')"
   ]
  },
  {
   "cell_type": "markdown",
   "metadata": {},
   "source": [
    "# Data cleaning"
   ]
  },
  {
   "cell_type": "code",
   "execution_count": null,
   "metadata": {},
   "outputs": [],
   "source": [
    "df.head()"
   ]
  },
  {
   "cell_type": "code",
   "execution_count": null,
   "metadata": {},
   "outputs": [],
   "source": [
    "df.info()"
   ]
  },
  {
   "cell_type": "code",
   "execution_count": null,
   "metadata": {},
   "outputs": [],
   "source": [
    "# is there only one entry per unique user id?\n",
    "# answer = no duplicates\n",
    "\n",
    "new = df.drop_duplicates()\n",
    "new.count()\n",
    "# df_filtered.groupby('id').count()\n",
    "# df_filtered['id'].value_counts() > 1"
   ]
  },
  {
   "cell_type": "code",
   "execution_count": 3,
   "metadata": {},
   "outputs": [],
   "source": [
    "# remove unecessary columns and reorder necessary columns\n",
    "\n",
    "new_columns = ['default_payment_next_month', 'age', 'sex', 'marital_status', 'education_level',  \n",
    "               'bill_amt_1', 'bill_amt_2', 'bill_amt_3', 'bill_amt_4', 'bill_amt_5', 'bill_amt_6', \n",
    "               'pay_0', 'pay_2', 'pay_3', 'pay_4', 'pay_5', 'pay_6', \n",
    "               'pay_amt_1', 'pay_amt_2', 'pay_amt_3', 'pay_amt_4', 'pay_amt_5', 'pay_amt_6', \n",
    "               'limit_balance']\n",
    "\n",
    "model_data = df[new_columns]"
   ]
  },
  {
   "cell_type": "code",
   "execution_count": null,
   "metadata": {
    "scrolled": false
   },
   "outputs": [],
   "source": [
    "model_data.head()"
   ]
  },
  {
   "cell_type": "code",
   "execution_count": null,
   "metadata": {},
   "outputs": [],
   "source": [
    "# figuring out what the different variables mean\n",
    "# pay_0 etc. have additional labels other than labels described in GCP (e.g., 0, -1), but leave as is?\n",
    "\n",
    "temp_columns = ['default_payment_next_month', 'age', 'sex', 'marital_status', 'education_level',  \n",
    "               'bill_amt_1',\n",
    "               'pay_0', \n",
    "               'pay_amt_1',\n",
    "               'limit_balance']\n",
    "\n",
    "df_temp = model_data[temp_columns]\n",
    "df_temp.head()\n",
    "# df_temp.pay_0.value_counts()"
   ]
  },
  {
   "cell_type": "code",
   "execution_count": null,
   "metadata": {},
   "outputs": [],
   "source": [
    "# where pay_columns have a value < 0, change to 0\n",
    "# ASSUMPTION: if pay columns have a negative value, customer paid on time\n",
    "\n",
    "pay_columns = ['pay_0', 'pay_2', 'pay_3', 'pay_4', 'pay_5', 'pay_6']\n",
    "\n",
    "for column in pay_columns:\n",
    "    model_data.loc[model_data[column] < 0, column] = 0"
   ]
  },
  {
   "cell_type": "code",
   "execution_count": null,
   "metadata": {},
   "outputs": [],
   "source": [
    "model_data.head()"
   ]
  },
  {
   "cell_type": "code",
   "execution_count": null,
   "metadata": {},
   "outputs": [],
   "source": [
    "# sex: replace female=2 with female=0 to prepare for creating dummy variables\n",
    "# or rename as 'male' and 'female'?\n",
    "\n",
    "# model_data['sex'] = model_data['sex'].map({1: 'male', 2: 'female'})\n",
    "# model_data.sex\n",
    "\n",
    "model_data['sex2'] = np.where(model_data['sex'] > 1, 0, model_data['sex'])\n",
    "\n",
    "# def gender_convert(num):\n",
    "#     if num == 1:\n",
    "#         return 'male'\n",
    "#     if num == 2:\n",
    "#         return 'female'\n",
    "# model_data['sex'].map(gender_convert)"
   ]
  },
  {
   "cell_type": "code",
   "execution_count": null,
   "metadata": {},
   "outputs": [],
   "source": [
    "model_data['sex2'].value_counts()"
   ]
  },
  {
   "cell_type": "code",
   "execution_count": null,
   "metadata": {},
   "outputs": [],
   "source": [
    "model_data.columns"
   ]
  },
  {
   "cell_type": "code",
   "execution_count": null,
   "metadata": {},
   "outputs": [],
   "source": [
    "model_data.drop(columns=['sex'], axis=1, inplace=True)\n",
    "model_data.columns"
   ]
  },
  {
   "cell_type": "code",
   "execution_count": null,
   "metadata": {},
   "outputs": [],
   "source": [
    "# replace marital_status number representations with categorical labels to prepare for dummy encoding\n",
    "\n",
    "model_data['marital_status'] = model_data['marital_status'].map({1: 'married', 2: 'single', 3: 'others'})\n",
    "model_data.marital_status"
   ]
  },
  {
   "cell_type": "code",
   "execution_count": null,
   "metadata": {},
   "outputs": [],
   "source": [
    "# replace education level numerical label with string to prepare for dummy variables\n",
    "# Education Level (1=graduate school, 2=university, 3=high school, 4=others, 5=unknown, 6=unknown)\n",
    "\n",
    "model_data['education_level'] = model_data['education_level'].map({1: 'graduate_school', 2: 'university', 3: 'high school', 4: 'others', 5: 'unknown', 6: 'unknown'})\n",
    "model_data.education_level"
   ]
  },
  {
   "cell_type": "code",
   "execution_count": null,
   "metadata": {},
   "outputs": [],
   "source": [
    "with open ('cleaned_cc_default_data', 'wb') as f:\n",
    "    pickle.dump(model_data, f)"
   ]
  },
  {
   "cell_type": "code",
   "execution_count": null,
   "metadata": {},
   "outputs": [],
   "source": []
  }
 ],
 "metadata": {
  "kernelspec": {
   "display_name": "Python 3",
   "language": "python",
   "name": "python3"
  },
  "language_info": {
   "codemirror_mode": {
    "name": "ipython",
    "version": 3
   },
   "file_extension": ".py",
   "mimetype": "text/x-python",
   "name": "python",
   "nbconvert_exporter": "python",
   "pygments_lexer": "ipython3",
   "version": "3.7.2"
  }
 },
 "nbformat": 4,
 "nbformat_minor": 2
}
