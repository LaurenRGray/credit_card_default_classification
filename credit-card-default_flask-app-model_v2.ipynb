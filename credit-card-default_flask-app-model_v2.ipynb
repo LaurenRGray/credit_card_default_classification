{
 "cells": [
  {
   "cell_type": "code",
   "execution_count": 1,
   "metadata": {},
   "outputs": [],
   "source": [
    "import numpy as np\n",
    "import pandas as pd\n",
    "\n",
    "from patsy import dmatrices, dmatrix\n",
    "import re\n",
    "import pickle\n",
    "from sklearn.model_selection import train_test_split, StratifiedShuffleSplit\n",
    "import sklearn.metrics as metrics\n",
    "from sklearn.metrics import accuracy_score, confusion_matrix\n",
    "from sklearn.datasets import make_classification\n",
    "from sklearn.naive_bayes import GaussianNB\n",
    "from sklearn.svm import LinearSVC, SVC\n",
    "from xgboost import XGBClassifier\n",
    "from collections import Counter\n",
    "from sklearn.preprocessing import StandardScaler\n",
    "from sklearn.neighbors import KNeighborsClassifier\n",
    "from sklearn.model_selection import GridSearchCV\n",
    "from sklearn import linear_model, svm\n",
    "from sklearn.ensemble import RandomForestClassifier, RandomForestRegressor, GradientBoostingClassifier\n",
    "from sklearn.tree import DecisionTreeClassifier\n",
    "\n",
    "import matplotlib.pyplot as plt\n",
    "import seaborn as sns\n",
    "from mlxtend.plotting import plot_decision_regions\n",
    "%matplotlib inline\n",
    "\n",
    "# make prettier plots\n",
    "%config InlineBackend.figure_format = 'svg' \n",
    "\n",
    "seed = 5\n",
    "np.random.seed(seed)\n",
    "\n",
    "pd.set_option('display.max_columns', None)\n",
    "pd.set_option('display.max_rows', None)"
   ]
  },
  {
   "cell_type": "code",
   "execution_count": 2,
   "metadata": {},
   "outputs": [],
   "source": [
    "file = open('cleaned_cc_default_data', 'rb')\n",
    "model_data = pickle.load(file)"
   ]
  },
  {
   "cell_type": "code",
   "execution_count": 3,
   "metadata": {
    "scrolled": true
   },
   "outputs": [
    {
     "data": {
      "text/html": [
       "<div>\n",
       "<style scoped>\n",
       "    .dataframe tbody tr th:only-of-type {\n",
       "        vertical-align: middle;\n",
       "    }\n",
       "\n",
       "    .dataframe tbody tr th {\n",
       "        vertical-align: top;\n",
       "    }\n",
       "\n",
       "    .dataframe thead th {\n",
       "        text-align: right;\n",
       "    }\n",
       "</style>\n",
       "<table border=\"1\" class=\"dataframe\">\n",
       "  <thead>\n",
       "    <tr style=\"text-align: right;\">\n",
       "      <th></th>\n",
       "      <th>default_payment_next_month</th>\n",
       "      <th>age</th>\n",
       "      <th>education_level</th>\n",
       "      <th>bill_amt_1</th>\n",
       "      <th>bill_amt_2</th>\n",
       "      <th>bill_amt_3</th>\n",
       "      <th>bill_amt_4</th>\n",
       "      <th>bill_amt_5</th>\n",
       "      <th>bill_amt_6</th>\n",
       "      <th>pay_0</th>\n",
       "      <th>pay_2</th>\n",
       "      <th>pay_3</th>\n",
       "      <th>pay_4</th>\n",
       "      <th>pay_5</th>\n",
       "      <th>pay_6</th>\n",
       "      <th>pay_amt_1</th>\n",
       "      <th>pay_amt_2</th>\n",
       "      <th>pay_amt_3</th>\n",
       "      <th>pay_amt_4</th>\n",
       "      <th>pay_amt_5</th>\n",
       "      <th>pay_amt_6</th>\n",
       "      <th>limit_balance</th>\n",
       "      <th>sex</th>\n",
       "      <th>others</th>\n",
       "      <th>single</th>\n",
       "    </tr>\n",
       "  </thead>\n",
       "  <tbody>\n",
       "    <tr>\n",
       "      <th>0</th>\n",
       "      <td>0</td>\n",
       "      <td>39</td>\n",
       "      <td>3.0</td>\n",
       "      <td>47174</td>\n",
       "      <td>47974</td>\n",
       "      <td>48630</td>\n",
       "      <td>50803</td>\n",
       "      <td>30789</td>\n",
       "      <td>15874</td>\n",
       "      <td>0</td>\n",
       "      <td>0</td>\n",
       "      <td>0</td>\n",
       "      <td>0</td>\n",
       "      <td>0</td>\n",
       "      <td>0</td>\n",
       "      <td>1800</td>\n",
       "      <td>2000</td>\n",
       "      <td>3000</td>\n",
       "      <td>2000</td>\n",
       "      <td>2000</td>\n",
       "      <td>2000</td>\n",
       "      <td>50000</td>\n",
       "      <td>1</td>\n",
       "      <td>0</td>\n",
       "      <td>1</td>\n",
       "    </tr>\n",
       "    <tr>\n",
       "      <th>1</th>\n",
       "      <td>0</td>\n",
       "      <td>29</td>\n",
       "      <td>3.0</td>\n",
       "      <td>48088</td>\n",
       "      <td>45980</td>\n",
       "      <td>44231</td>\n",
       "      <td>32489</td>\n",
       "      <td>26354</td>\n",
       "      <td>20221</td>\n",
       "      <td>0</td>\n",
       "      <td>0</td>\n",
       "      <td>0</td>\n",
       "      <td>0</td>\n",
       "      <td>0</td>\n",
       "      <td>0</td>\n",
       "      <td>2000</td>\n",
       "      <td>2010</td>\n",
       "      <td>3000</td>\n",
       "      <td>3000</td>\n",
       "      <td>3000</td>\n",
       "      <td>1000</td>\n",
       "      <td>110000</td>\n",
       "      <td>0</td>\n",
       "      <td>0</td>\n",
       "      <td>1</td>\n",
       "    </tr>\n",
       "    <tr>\n",
       "      <th>2</th>\n",
       "      <td>0</td>\n",
       "      <td>36</td>\n",
       "      <td>3.0</td>\n",
       "      <td>78630</td>\n",
       "      <td>68921</td>\n",
       "      <td>46512</td>\n",
       "      <td>40335</td>\n",
       "      <td>37165</td>\n",
       "      <td>22156</td>\n",
       "      <td>0</td>\n",
       "      <td>0</td>\n",
       "      <td>0</td>\n",
       "      <td>2</td>\n",
       "      <td>0</td>\n",
       "      <td>0</td>\n",
       "      <td>10076</td>\n",
       "      <td>4018</td>\n",
       "      <td>14</td>\n",
       "      <td>2051</td>\n",
       "      <td>2000</td>\n",
       "      <td>0</td>\n",
       "      <td>270000</td>\n",
       "      <td>1</td>\n",
       "      <td>0</td>\n",
       "      <td>1</td>\n",
       "    </tr>\n",
       "    <tr>\n",
       "      <th>3</th>\n",
       "      <td>0</td>\n",
       "      <td>45</td>\n",
       "      <td>3.0</td>\n",
       "      <td>58180</td>\n",
       "      <td>59134</td>\n",
       "      <td>61156</td>\n",
       "      <td>62377</td>\n",
       "      <td>63832</td>\n",
       "      <td>65099</td>\n",
       "      <td>0</td>\n",
       "      <td>0</td>\n",
       "      <td>0</td>\n",
       "      <td>0</td>\n",
       "      <td>0</td>\n",
       "      <td>0</td>\n",
       "      <td>2886</td>\n",
       "      <td>2908</td>\n",
       "      <td>2129</td>\n",
       "      <td>2354</td>\n",
       "      <td>2366</td>\n",
       "      <td>2291</td>\n",
       "      <td>130000</td>\n",
       "      <td>1</td>\n",
       "      <td>0</td>\n",
       "      <td>0</td>\n",
       "    </tr>\n",
       "    <tr>\n",
       "      <th>4</th>\n",
       "      <td>0</td>\n",
       "      <td>24</td>\n",
       "      <td>3.0</td>\n",
       "      <td>42058</td>\n",
       "      <td>35340</td>\n",
       "      <td>22110</td>\n",
       "      <td>19837</td>\n",
       "      <td>19855</td>\n",
       "      <td>20151</td>\n",
       "      <td>0</td>\n",
       "      <td>0</td>\n",
       "      <td>0</td>\n",
       "      <td>0</td>\n",
       "      <td>0</td>\n",
       "      <td>0</td>\n",
       "      <td>1367</td>\n",
       "      <td>1606</td>\n",
       "      <td>692</td>\n",
       "      <td>709</td>\n",
       "      <td>721</td>\n",
       "      <td>692</td>\n",
       "      <td>50000</td>\n",
       "      <td>1</td>\n",
       "      <td>0</td>\n",
       "      <td>1</td>\n",
       "    </tr>\n",
       "  </tbody>\n",
       "</table>\n",
       "</div>"
      ],
      "text/plain": [
       "   default_payment_next_month  age  education_level  bill_amt_1  bill_amt_2  \\\n",
       "0                           0   39              3.0       47174       47974   \n",
       "1                           0   29              3.0       48088       45980   \n",
       "2                           0   36              3.0       78630       68921   \n",
       "3                           0   45              3.0       58180       59134   \n",
       "4                           0   24              3.0       42058       35340   \n",
       "\n",
       "   bill_amt_3  bill_amt_4  bill_amt_5  bill_amt_6  pay_0  pay_2  pay_3  pay_4  \\\n",
       "0       48630       50803       30789       15874      0      0      0      0   \n",
       "1       44231       32489       26354       20221      0      0      0      0   \n",
       "2       46512       40335       37165       22156      0      0      0      2   \n",
       "3       61156       62377       63832       65099      0      0      0      0   \n",
       "4       22110       19837       19855       20151      0      0      0      0   \n",
       "\n",
       "   pay_5  pay_6  pay_amt_1  pay_amt_2  pay_amt_3  pay_amt_4  pay_amt_5  \\\n",
       "0      0      0       1800       2000       3000       2000       2000   \n",
       "1      0      0       2000       2010       3000       3000       3000   \n",
       "2      0      0      10076       4018         14       2051       2000   \n",
       "3      0      0       2886       2908       2129       2354       2366   \n",
       "4      0      0       1367       1606        692        709        721   \n",
       "\n",
       "   pay_amt_6  limit_balance  sex  others  single  \n",
       "0       2000          50000    1       0       1  \n",
       "1       1000         110000    0       0       1  \n",
       "2          0         270000    1       0       1  \n",
       "3       2291         130000    1       0       0  \n",
       "4        692          50000    1       0       1  "
      ]
     },
     "execution_count": 3,
     "metadata": {},
     "output_type": "execute_result"
    }
   ],
   "source": [
    "model_data.head()"
   ]
  },
  {
   "cell_type": "code",
   "execution_count": 4,
   "metadata": {
    "scrolled": false
   },
   "outputs": [
    {
     "name": "stdout",
     "output_type": "stream",
     "text": [
      "<class 'pandas.core.frame.DataFrame'>\n",
      "Int64Index: 2963 entries, 0 to 2964\n",
      "Data columns (total 25 columns):\n",
      "default_payment_next_month    2963 non-null int64\n",
      "age                           2963 non-null int64\n",
      "education_level               2963 non-null float64\n",
      "bill_amt_1                    2963 non-null int64\n",
      "bill_amt_2                    2963 non-null int64\n",
      "bill_amt_3                    2963 non-null int64\n",
      "bill_amt_4                    2963 non-null int64\n",
      "bill_amt_5                    2963 non-null int64\n",
      "bill_amt_6                    2963 non-null int64\n",
      "pay_0                         2963 non-null int64\n",
      "pay_2                         2963 non-null int64\n",
      "pay_3                         2963 non-null int64\n",
      "pay_4                         2963 non-null int64\n",
      "pay_5                         2963 non-null int64\n",
      "pay_6                         2963 non-null int64\n",
      "pay_amt_1                     2963 non-null int64\n",
      "pay_amt_2                     2963 non-null int64\n",
      "pay_amt_3                     2963 non-null int64\n",
      "pay_amt_4                     2963 non-null int64\n",
      "pay_amt_5                     2963 non-null int64\n",
      "pay_amt_6                     2963 non-null int64\n",
      "limit_balance                 2963 non-null int64\n",
      "sex                           2963 non-null int64\n",
      "others                        2963 non-null uint8\n",
      "single                        2963 non-null uint8\n",
      "dtypes: float64(1), int64(22), uint8(2)\n",
      "memory usage: 561.3 KB\n"
     ]
    }
   ],
   "source": [
    "model_data.info()"
   ]
  },
  {
   "cell_type": "code",
   "execution_count": 5,
   "metadata": {},
   "outputs": [
    {
     "data": {
      "text/plain": [
       "(2963, 25)"
      ]
     },
     "execution_count": 5,
     "metadata": {},
     "output_type": "execute_result"
    }
   ],
   "source": [
    "model_data.shape"
   ]
  },
  {
   "cell_type": "markdown",
   "metadata": {},
   "source": [
    "# Splitting data into train/test & scaling"
   ]
  },
  {
   "cell_type": "code",
   "execution_count": 6,
   "metadata": {},
   "outputs": [
    {
     "name": "stderr",
     "output_type": "stream",
     "text": [
      "/Users/laurenfinkelstein/anaconda3/lib/python3.7/site-packages/pandas/core/indexing.py:1494: FutureWarning: \n",
      "Passing list-likes to .loc or [] with any missing label will raise\n",
      "KeyError in the future, you can use .reindex() as an alternative.\n",
      "\n",
      "See the documentation here:\n",
      "https://pandas.pydata.org/pandas-docs/stable/indexing.html#deprecate-loc-reindex-listlike\n",
      "  return self._getitem_tuple(key)\n"
     ]
    }
   ],
   "source": [
    "# Stratified train test split\n",
    "x_raw = model_data.iloc[:, 1:]\n",
    "y_raw = np.array(model_data['default_payment_next_month'])\n",
    "\n",
    "sss1 = StratifiedShuffleSplit(n_splits=2, test_size=0.2, random_state=0)\n",
    "\n",
    "sss1.get_n_splits()\n",
    "for train_index, test_index in sss1.split(x_raw, y_raw):\n",
    "    x_train, x_test = x_raw.loc[train_index,:], x_raw.loc[test_index,:]\n",
    "    y_train, y_test = y_raw[train_index], y_raw[test_index]"
   ]
  },
  {
   "cell_type": "code",
   "execution_count": 7,
   "metadata": {},
   "outputs": [
    {
     "data": {
      "text/plain": [
       "(2370, 24)"
      ]
     },
     "execution_count": 7,
     "metadata": {},
     "output_type": "execute_result"
    }
   ],
   "source": [
    "x_train.shape"
   ]
  },
  {
   "cell_type": "code",
   "execution_count": 8,
   "metadata": {
    "scrolled": true
   },
   "outputs": [
    {
     "data": {
      "text/plain": [
       "(2370,)"
      ]
     },
     "execution_count": 8,
     "metadata": {},
     "output_type": "execute_result"
    }
   ],
   "source": [
    "y_train.shape"
   ]
  },
  {
   "cell_type": "code",
   "execution_count": 9,
   "metadata": {},
   "outputs": [
    {
     "data": {
      "text/plain": [
       "(593, 24)"
      ]
     },
     "execution_count": 9,
     "metadata": {},
     "output_type": "execute_result"
    }
   ],
   "source": [
    "x_test.shape"
   ]
  },
  {
   "cell_type": "code",
   "execution_count": 10,
   "metadata": {},
   "outputs": [
    {
     "data": {
      "text/plain": [
       "(593,)"
      ]
     },
     "execution_count": 10,
     "metadata": {},
     "output_type": "execute_result"
    }
   ],
   "source": [
    "y_test.shape"
   ]
  },
  {
   "cell_type": "code",
   "execution_count": 11,
   "metadata": {},
   "outputs": [],
   "source": [
    "# setting a scaler\n",
    "\n",
    "scaler = StandardScaler()"
   ]
  },
  {
   "cell_type": "code",
   "execution_count": 12,
   "metadata": {},
   "outputs": [
    {
     "data": {
      "text/plain": [
       "pandas.core.frame.DataFrame"
      ]
     },
     "execution_count": 12,
     "metadata": {},
     "output_type": "execute_result"
    }
   ],
   "source": [
    "type(x_train)"
   ]
  },
  {
   "cell_type": "code",
   "execution_count": 13,
   "metadata": {},
   "outputs": [
    {
     "data": {
      "text/plain": [
       "Index(['age', 'education_level', 'bill_amt_1', 'bill_amt_2', 'bill_amt_3',\n",
       "       'bill_amt_4', 'bill_amt_5', 'bill_amt_6', 'pay_0', 'pay_2', 'pay_3',\n",
       "       'pay_4', 'pay_5', 'pay_6', 'pay_amt_1', 'pay_amt_2', 'pay_amt_3',\n",
       "       'pay_amt_4', 'pay_amt_5', 'pay_amt_6', 'limit_balance', 'sex', 'others',\n",
       "       'single'],\n",
       "      dtype='object')"
      ]
     },
     "execution_count": 13,
     "metadata": {},
     "output_type": "execute_result"
    }
   ],
   "source": [
    "x_train.columns"
   ]
  },
  {
   "cell_type": "raw",
   "metadata": {},
   "source": [
    "# Note to self on how to breakdown features to be scaled vs. not scaled\n",
    "\n",
    "y = ['default_payment_next_month']\n",
    "\n",
    "       \n",
    "x_scaled = ['age', \n",
    "       'bill_amt_1', 'bill_amt_2', 'bill_amt_3','bill_amt_4', 'bill_amt_5', 'bill_amt_6', \n",
    "       'pay_amt_1', 'pay_amt_2', 'pay_amt_3','pay_amt_4', 'pay_amt_5', 'pay_amt_6', \n",
    "       'limit_balance']\n",
    "\n",
    "x_scaled_patsy = ['age',  \n",
    "        'bill_amt_1', 'bill_amt_2', 'bill_amt_3', 'bill_amt_4', 'bill_amt_5', 'bill_amt_6', \n",
    "        'pay_amt_1', 'pay_amt_2', 'pay_amt_3', 'pay_amt_4', 'pay_amt_5', 'pay_amt_6', \n",
    "         'limit_balance']\n",
    "\n",
    "x_unscaled = ['education_level', \n",
    "        'pay_0', 'pay_2', 'pay_3','pay_4', 'pay_5', 'pay_6', \n",
    "        'sex', 'others', 'single']\n",
    "                  \n",
    "x_unscaled_patsy = ['Intercept', \n",
    "       'marital_status[T.others]', 'marital_status[T.single]',\n",
    "       'education_level[T.high school]', 'education_level[T.others]',\n",
    "       'education_level[T.university]', 'education_level[T.unknown]',\n",
    "       'sex',\n",
    "       'pay_0', 'pay_2', 'pay_3', 'pay_4', 'pay_5', 'pay_6',]"
   ]
  },
  {
   "cell_type": "code",
   "execution_count": 14,
   "metadata": {},
   "outputs": [],
   "source": [
    "# splitting train data into features that will be scaled\n",
    "# by dropping categorical features\n",
    "\n",
    "X_for_scaling = x_train.drop(columns=['education_level', \n",
    "        'pay_0', 'pay_2', 'pay_3','pay_4', 'pay_5', 'pay_6', \n",
    "        'sex', 'others', 'single'])"
   ]
  },
  {
   "cell_type": "code",
   "execution_count": 15,
   "metadata": {},
   "outputs": [],
   "source": [
    "# scale features that need to be scaled\n",
    "\n",
    "X_train_scaled = scaler.fit_transform(X_for_scaling)"
   ]
  },
  {
   "cell_type": "code",
   "execution_count": 16,
   "metadata": {},
   "outputs": [],
   "source": [
    "# convert those features to data frame\n",
    "\n",
    "X_train_scaled = pd.DataFrame(X_train_scaled, columns=['age', \n",
    "       'bill_amt_1', 'bill_amt_2', 'bill_amt_3','bill_amt_4', 'bill_amt_5', 'bill_amt_6', \n",
    "       'pay_amt_1', 'pay_amt_2', 'pay_amt_3','pay_amt_4', 'pay_amt_5', 'pay_amt_6', \n",
    "       'limit_balance'])"
   ]
  },
  {
   "cell_type": "code",
   "execution_count": 17,
   "metadata": {
    "scrolled": true
   },
   "outputs": [
    {
     "data": {
      "text/html": [
       "<div>\n",
       "<style scoped>\n",
       "    .dataframe tbody tr th:only-of-type {\n",
       "        vertical-align: middle;\n",
       "    }\n",
       "\n",
       "    .dataframe tbody tr th {\n",
       "        vertical-align: top;\n",
       "    }\n",
       "\n",
       "    .dataframe thead th {\n",
       "        text-align: right;\n",
       "    }\n",
       "</style>\n",
       "<table border=\"1\" class=\"dataframe\">\n",
       "  <thead>\n",
       "    <tr style=\"text-align: right;\">\n",
       "      <th></th>\n",
       "      <th>age</th>\n",
       "      <th>bill_amt_1</th>\n",
       "      <th>bill_amt_2</th>\n",
       "      <th>bill_amt_3</th>\n",
       "      <th>bill_amt_4</th>\n",
       "      <th>bill_amt_5</th>\n",
       "      <th>bill_amt_6</th>\n",
       "      <th>pay_amt_1</th>\n",
       "      <th>pay_amt_2</th>\n",
       "      <th>pay_amt_3</th>\n",
       "      <th>pay_amt_4</th>\n",
       "      <th>pay_amt_5</th>\n",
       "      <th>pay_amt_6</th>\n",
       "      <th>limit_balance</th>\n",
       "    </tr>\n",
       "  </thead>\n",
       "  <tbody>\n",
       "    <tr>\n",
       "      <th>0</th>\n",
       "      <td>0.098135</td>\n",
       "      <td>-0.718157</td>\n",
       "      <td>-0.712797</td>\n",
       "      <td>-0.656081</td>\n",
       "      <td>-0.662030</td>\n",
       "      <td>-0.676581</td>\n",
       "      <td>-0.449010</td>\n",
       "      <td>-0.295507</td>\n",
       "      <td>-0.084792</td>\n",
       "      <td>-0.140569</td>\n",
       "      <td>-0.215248</td>\n",
       "      <td>0.570493</td>\n",
       "      <td>-0.248511</td>\n",
       "      <td>-0.019936</td>\n",
       "    </tr>\n",
       "    <tr>\n",
       "      <th>1</th>\n",
       "      <td>-0.885615</td>\n",
       "      <td>-0.045978</td>\n",
       "      <td>-0.046877</td>\n",
       "      <td>-0.134033</td>\n",
       "      <td>-0.063341</td>\n",
       "      <td>-0.001423</td>\n",
       "      <td>0.066774</td>\n",
       "      <td>-0.218995</td>\n",
       "      <td>-0.137506</td>\n",
       "      <td>-0.239268</td>\n",
       "      <td>-0.211688</td>\n",
       "      <td>-0.087358</td>\n",
       "      <td>-0.281494</td>\n",
       "      <td>-0.906082</td>\n",
       "    </tr>\n",
       "    <tr>\n",
       "      <th>2</th>\n",
       "      <td>1.300495</td>\n",
       "      <td>-0.028908</td>\n",
       "      <td>-0.032205</td>\n",
       "      <td>0.022519</td>\n",
       "      <td>0.102790</td>\n",
       "      <td>-0.656869</td>\n",
       "      <td>-0.702595</td>\n",
       "      <td>-0.295507</td>\n",
       "      <td>-0.122803</td>\n",
       "      <td>-0.198000</td>\n",
       "      <td>-0.328832</td>\n",
       "      <td>-0.294460</td>\n",
       "      <td>2.123603</td>\n",
       "      <td>-0.906082</td>\n",
       "    </tr>\n",
       "    <tr>\n",
       "      <th>3</th>\n",
       "      <td>-0.776309</td>\n",
       "      <td>3.168099</td>\n",
       "      <td>3.125140</td>\n",
       "      <td>3.332646</td>\n",
       "      <td>3.805802</td>\n",
       "      <td>3.916929</td>\n",
       "      <td>1.252276</td>\n",
       "      <td>-0.295281</td>\n",
       "      <td>0.117521</td>\n",
       "      <td>0.333052</td>\n",
       "      <td>0.173641</td>\n",
       "      <td>-0.292388</td>\n",
       "      <td>10.970793</td>\n",
       "      <td>0.946770</td>\n",
       "    </tr>\n",
       "    <tr>\n",
       "      <th>4</th>\n",
       "      <td>0.972579</td>\n",
       "      <td>0.179921</td>\n",
       "      <td>-0.213537</td>\n",
       "      <td>-0.207158</td>\n",
       "      <td>0.790165</td>\n",
       "      <td>0.447903</td>\n",
       "      <td>0.392444</td>\n",
       "      <td>-0.069978</td>\n",
       "      <td>-0.104321</td>\n",
       "      <td>4.464748</td>\n",
       "      <td>-0.153223</td>\n",
       "      <td>-0.111723</td>\n",
       "      <td>-0.149560</td>\n",
       "      <td>-0.100494</td>\n",
       "    </tr>\n",
       "  </tbody>\n",
       "</table>\n",
       "</div>"
      ],
      "text/plain": [
       "        age  bill_amt_1  bill_amt_2  bill_amt_3  bill_amt_4  bill_amt_5  \\\n",
       "0  0.098135   -0.718157   -0.712797   -0.656081   -0.662030   -0.676581   \n",
       "1 -0.885615   -0.045978   -0.046877   -0.134033   -0.063341   -0.001423   \n",
       "2  1.300495   -0.028908   -0.032205    0.022519    0.102790   -0.656869   \n",
       "3 -0.776309    3.168099    3.125140    3.332646    3.805802    3.916929   \n",
       "4  0.972579    0.179921   -0.213537   -0.207158    0.790165    0.447903   \n",
       "\n",
       "   bill_amt_6  pay_amt_1  pay_amt_2  pay_amt_3  pay_amt_4  pay_amt_5  \\\n",
       "0   -0.449010  -0.295507  -0.084792  -0.140569  -0.215248   0.570493   \n",
       "1    0.066774  -0.218995  -0.137506  -0.239268  -0.211688  -0.087358   \n",
       "2   -0.702595  -0.295507  -0.122803  -0.198000  -0.328832  -0.294460   \n",
       "3    1.252276  -0.295281   0.117521   0.333052   0.173641  -0.292388   \n",
       "4    0.392444  -0.069978  -0.104321   4.464748  -0.153223  -0.111723   \n",
       "\n",
       "   pay_amt_6  limit_balance  \n",
       "0  -0.248511      -0.019936  \n",
       "1  -0.281494      -0.906082  \n",
       "2   2.123603      -0.906082  \n",
       "3  10.970793       0.946770  \n",
       "4  -0.149560      -0.100494  "
      ]
     },
     "execution_count": 17,
     "metadata": {},
     "output_type": "execute_result"
    }
   ],
   "source": [
    "X_train_scaled.head()\n"
   ]
  },
  {
   "cell_type": "code",
   "execution_count": 18,
   "metadata": {},
   "outputs": [],
   "source": [
    "# merge scaled features with non-scaled features\n",
    "\n",
    "# X_train = pd.merge(X_train_scaled, x_train.drop(columns=['age',  \n",
    "#         'bill_amt_1', 'bill_amt_2', 'bill_amt_3', 'bill_amt_4', 'bill_amt_5', 'bill_amt_6', \n",
    "#         'pay_amt_1', 'pay_amt_2', 'pay_amt_3', 'pay_amt_4', 'pay_amt_5', 'pay_amt_6', \n",
    "#          'limit_balance']).reset_index(drop=True), left_index=True, right_index=True)\n",
    "\n",
    "X_train = X_train_scaled.join(x_train.drop(columns=['age', \n",
    "       'bill_amt_1', 'bill_amt_2', 'bill_amt_3','bill_amt_4', 'bill_amt_5', 'bill_amt_6', \n",
    "       'pay_amt_1', 'pay_amt_2', 'pay_amt_3','pay_amt_4', 'pay_amt_5', 'pay_amt_6', \n",
    "       'limit_balance']).reset_index(drop=True))"
   ]
  },
  {
   "cell_type": "code",
   "execution_count": 19,
   "metadata": {
    "scrolled": true
   },
   "outputs": [
    {
     "data": {
      "text/html": [
       "<div>\n",
       "<style scoped>\n",
       "    .dataframe tbody tr th:only-of-type {\n",
       "        vertical-align: middle;\n",
       "    }\n",
       "\n",
       "    .dataframe tbody tr th {\n",
       "        vertical-align: top;\n",
       "    }\n",
       "\n",
       "    .dataframe thead th {\n",
       "        text-align: right;\n",
       "    }\n",
       "</style>\n",
       "<table border=\"1\" class=\"dataframe\">\n",
       "  <thead>\n",
       "    <tr style=\"text-align: right;\">\n",
       "      <th></th>\n",
       "      <th>age</th>\n",
       "      <th>bill_amt_1</th>\n",
       "      <th>bill_amt_2</th>\n",
       "      <th>bill_amt_3</th>\n",
       "      <th>bill_amt_4</th>\n",
       "      <th>bill_amt_5</th>\n",
       "      <th>bill_amt_6</th>\n",
       "      <th>pay_amt_1</th>\n",
       "      <th>pay_amt_2</th>\n",
       "      <th>pay_amt_3</th>\n",
       "      <th>pay_amt_4</th>\n",
       "      <th>pay_amt_5</th>\n",
       "      <th>pay_amt_6</th>\n",
       "      <th>limit_balance</th>\n",
       "      <th>education_level</th>\n",
       "      <th>pay_0</th>\n",
       "      <th>pay_2</th>\n",
       "      <th>pay_3</th>\n",
       "      <th>pay_4</th>\n",
       "      <th>pay_5</th>\n",
       "      <th>pay_6</th>\n",
       "      <th>sex</th>\n",
       "      <th>others</th>\n",
       "      <th>single</th>\n",
       "    </tr>\n",
       "  </thead>\n",
       "  <tbody>\n",
       "    <tr>\n",
       "      <th>0</th>\n",
       "      <td>0.098135</td>\n",
       "      <td>-0.718157</td>\n",
       "      <td>-0.712797</td>\n",
       "      <td>-0.656081</td>\n",
       "      <td>-0.662030</td>\n",
       "      <td>-0.676581</td>\n",
       "      <td>-0.449010</td>\n",
       "      <td>-0.295507</td>\n",
       "      <td>-0.084792</td>\n",
       "      <td>-0.140569</td>\n",
       "      <td>-0.215248</td>\n",
       "      <td>0.570493</td>\n",
       "      <td>-0.248511</td>\n",
       "      <td>-0.019936</td>\n",
       "      <td>2.0</td>\n",
       "      <td>0.0</td>\n",
       "      <td>0.0</td>\n",
       "      <td>0.0</td>\n",
       "      <td>0.0</td>\n",
       "      <td>0.0</td>\n",
       "      <td>0.0</td>\n",
       "      <td>0.0</td>\n",
       "      <td>0.0</td>\n",
       "      <td>0.0</td>\n",
       "    </tr>\n",
       "    <tr>\n",
       "      <th>1</th>\n",
       "      <td>-0.885615</td>\n",
       "      <td>-0.045978</td>\n",
       "      <td>-0.046877</td>\n",
       "      <td>-0.134033</td>\n",
       "      <td>-0.063341</td>\n",
       "      <td>-0.001423</td>\n",
       "      <td>0.066774</td>\n",
       "      <td>-0.218995</td>\n",
       "      <td>-0.137506</td>\n",
       "      <td>-0.239268</td>\n",
       "      <td>-0.211688</td>\n",
       "      <td>-0.087358</td>\n",
       "      <td>-0.281494</td>\n",
       "      <td>-0.906082</td>\n",
       "      <td>2.0</td>\n",
       "      <td>0.0</td>\n",
       "      <td>0.0</td>\n",
       "      <td>0.0</td>\n",
       "      <td>0.0</td>\n",
       "      <td>0.0</td>\n",
       "      <td>0.0</td>\n",
       "      <td>1.0</td>\n",
       "      <td>0.0</td>\n",
       "      <td>1.0</td>\n",
       "    </tr>\n",
       "    <tr>\n",
       "      <th>2</th>\n",
       "      <td>1.300495</td>\n",
       "      <td>-0.028908</td>\n",
       "      <td>-0.032205</td>\n",
       "      <td>0.022519</td>\n",
       "      <td>0.102790</td>\n",
       "      <td>-0.656869</td>\n",
       "      <td>-0.702595</td>\n",
       "      <td>-0.295507</td>\n",
       "      <td>-0.122803</td>\n",
       "      <td>-0.198000</td>\n",
       "      <td>-0.328832</td>\n",
       "      <td>-0.294460</td>\n",
       "      <td>2.123603</td>\n",
       "      <td>-0.906082</td>\n",
       "      <td>1.0</td>\n",
       "      <td>1.0</td>\n",
       "      <td>2.0</td>\n",
       "      <td>0.0</td>\n",
       "      <td>0.0</td>\n",
       "      <td>0.0</td>\n",
       "      <td>0.0</td>\n",
       "      <td>0.0</td>\n",
       "      <td>0.0</td>\n",
       "      <td>0.0</td>\n",
       "    </tr>\n",
       "    <tr>\n",
       "      <th>3</th>\n",
       "      <td>-0.776309</td>\n",
       "      <td>3.168099</td>\n",
       "      <td>3.125140</td>\n",
       "      <td>3.332646</td>\n",
       "      <td>3.805802</td>\n",
       "      <td>3.916929</td>\n",
       "      <td>1.252276</td>\n",
       "      <td>-0.295281</td>\n",
       "      <td>0.117521</td>\n",
       "      <td>0.333052</td>\n",
       "      <td>0.173641</td>\n",
       "      <td>-0.292388</td>\n",
       "      <td>10.970793</td>\n",
       "      <td>0.946770</td>\n",
       "      <td>3.0</td>\n",
       "      <td>1.0</td>\n",
       "      <td>2.0</td>\n",
       "      <td>0.0</td>\n",
       "      <td>0.0</td>\n",
       "      <td>0.0</td>\n",
       "      <td>2.0</td>\n",
       "      <td>1.0</td>\n",
       "      <td>0.0</td>\n",
       "      <td>0.0</td>\n",
       "    </tr>\n",
       "    <tr>\n",
       "      <th>4</th>\n",
       "      <td>0.972579</td>\n",
       "      <td>0.179921</td>\n",
       "      <td>-0.213537</td>\n",
       "      <td>-0.207158</td>\n",
       "      <td>0.790165</td>\n",
       "      <td>0.447903</td>\n",
       "      <td>0.392444</td>\n",
       "      <td>-0.069978</td>\n",
       "      <td>-0.104321</td>\n",
       "      <td>4.464748</td>\n",
       "      <td>-0.153223</td>\n",
       "      <td>-0.111723</td>\n",
       "      <td>-0.149560</td>\n",
       "      <td>-0.100494</td>\n",
       "      <td>1.0</td>\n",
       "      <td>0.0</td>\n",
       "      <td>0.0</td>\n",
       "      <td>0.0</td>\n",
       "      <td>0.0</td>\n",
       "      <td>0.0</td>\n",
       "      <td>0.0</td>\n",
       "      <td>1.0</td>\n",
       "      <td>0.0</td>\n",
       "      <td>1.0</td>\n",
       "    </tr>\n",
       "  </tbody>\n",
       "</table>\n",
       "</div>"
      ],
      "text/plain": [
       "        age  bill_amt_1  bill_amt_2  bill_amt_3  bill_amt_4  bill_amt_5  \\\n",
       "0  0.098135   -0.718157   -0.712797   -0.656081   -0.662030   -0.676581   \n",
       "1 -0.885615   -0.045978   -0.046877   -0.134033   -0.063341   -0.001423   \n",
       "2  1.300495   -0.028908   -0.032205    0.022519    0.102790   -0.656869   \n",
       "3 -0.776309    3.168099    3.125140    3.332646    3.805802    3.916929   \n",
       "4  0.972579    0.179921   -0.213537   -0.207158    0.790165    0.447903   \n",
       "\n",
       "   bill_amt_6  pay_amt_1  pay_amt_2  pay_amt_3  pay_amt_4  pay_amt_5  \\\n",
       "0   -0.449010  -0.295507  -0.084792  -0.140569  -0.215248   0.570493   \n",
       "1    0.066774  -0.218995  -0.137506  -0.239268  -0.211688  -0.087358   \n",
       "2   -0.702595  -0.295507  -0.122803  -0.198000  -0.328832  -0.294460   \n",
       "3    1.252276  -0.295281   0.117521   0.333052   0.173641  -0.292388   \n",
       "4    0.392444  -0.069978  -0.104321   4.464748  -0.153223  -0.111723   \n",
       "\n",
       "   pay_amt_6  limit_balance  education_level  pay_0  pay_2  pay_3  pay_4  \\\n",
       "0  -0.248511      -0.019936              2.0    0.0    0.0    0.0    0.0   \n",
       "1  -0.281494      -0.906082              2.0    0.0    0.0    0.0    0.0   \n",
       "2   2.123603      -0.906082              1.0    1.0    2.0    0.0    0.0   \n",
       "3  10.970793       0.946770              3.0    1.0    2.0    0.0    0.0   \n",
       "4  -0.149560      -0.100494              1.0    0.0    0.0    0.0    0.0   \n",
       "\n",
       "   pay_5  pay_6  sex  others  single  \n",
       "0    0.0    0.0  0.0     0.0     0.0  \n",
       "1    0.0    0.0  1.0     0.0     1.0  \n",
       "2    0.0    0.0  0.0     0.0     0.0  \n",
       "3    0.0    2.0  1.0     0.0     0.0  \n",
       "4    0.0    0.0  1.0     0.0     1.0  "
      ]
     },
     "execution_count": 19,
     "metadata": {},
     "output_type": "execute_result"
    }
   ],
   "source": [
    "X_train.head()"
   ]
  },
  {
   "cell_type": "code",
   "execution_count": 20,
   "metadata": {
    "scrolled": true
   },
   "outputs": [
    {
     "data": {
      "text/plain": [
       "(2370, 24)"
      ]
     },
     "execution_count": 20,
     "metadata": {},
     "output_type": "execute_result"
    }
   ],
   "source": [
    "X_train.shape"
   ]
  },
  {
   "cell_type": "code",
   "execution_count": 21,
   "metadata": {
    "scrolled": false
   },
   "outputs": [
    {
     "name": "stdout",
     "output_type": "stream",
     "text": [
      "<class 'pandas.core.frame.DataFrame'>\n",
      "RangeIndex: 2370 entries, 0 to 2369\n",
      "Data columns (total 24 columns):\n",
      "age                2368 non-null float64\n",
      "bill_amt_1         2368 non-null float64\n",
      "bill_amt_2         2368 non-null float64\n",
      "bill_amt_3         2368 non-null float64\n",
      "bill_amt_4         2368 non-null float64\n",
      "bill_amt_5         2368 non-null float64\n",
      "bill_amt_6         2368 non-null float64\n",
      "pay_amt_1          2368 non-null float64\n",
      "pay_amt_2          2368 non-null float64\n",
      "pay_amt_3          2368 non-null float64\n",
      "pay_amt_4          2368 non-null float64\n",
      "pay_amt_5          2368 non-null float64\n",
      "pay_amt_6          2368 non-null float64\n",
      "limit_balance      2368 non-null float64\n",
      "education_level    2368 non-null float64\n",
      "pay_0              2368 non-null float64\n",
      "pay_2              2368 non-null float64\n",
      "pay_3              2368 non-null float64\n",
      "pay_4              2368 non-null float64\n",
      "pay_5              2368 non-null float64\n",
      "pay_6              2368 non-null float64\n",
      "sex                2368 non-null float64\n",
      "others             2368 non-null float64\n",
      "single             2368 non-null float64\n",
      "dtypes: float64(24)\n",
      "memory usage: 444.5 KB\n"
     ]
    }
   ],
   "source": [
    "X_train.info()"
   ]
  },
  {
   "cell_type": "code",
   "execution_count": 22,
   "metadata": {
    "scrolled": true
   },
   "outputs": [
    {
     "name": "stderr",
     "output_type": "stream",
     "text": [
      "/Users/laurenfinkelstein/anaconda3/lib/python3.7/site-packages/ipykernel_launcher.py:3: FutureWarning: Series.nonzero() is deprecated and will be removed in a future version.Use Series.to_numpy().nonzero() instead\n",
      "  This is separate from the ipykernel package so we can avoid doing imports until\n"
     ]
    },
    {
     "data": {
      "text/plain": [
       "array([1391, 1867])"
      ]
     },
     "execution_count": 22,
     "metadata": {},
     "output_type": "execute_result"
    }
   ],
   "source": [
    "# get null value indices in X_train\n",
    "\n",
    "inds = pd.isnull(X_train).any(1).nonzero()[0]\n",
    "inds"
   ]
  },
  {
   "cell_type": "code",
   "execution_count": 23,
   "metadata": {},
   "outputs": [
    {
     "name": "stdout",
     "output_type": "stream",
     "text": [
      "<class 'pandas.core.frame.DataFrame'>\n",
      "Int64Index: 2368 entries, 0 to 2369\n",
      "Data columns (total 24 columns):\n",
      "age                2368 non-null float64\n",
      "bill_amt_1         2368 non-null float64\n",
      "bill_amt_2         2368 non-null float64\n",
      "bill_amt_3         2368 non-null float64\n",
      "bill_amt_4         2368 non-null float64\n",
      "bill_amt_5         2368 non-null float64\n",
      "bill_amt_6         2368 non-null float64\n",
      "pay_amt_1          2368 non-null float64\n",
      "pay_amt_2          2368 non-null float64\n",
      "pay_amt_3          2368 non-null float64\n",
      "pay_amt_4          2368 non-null float64\n",
      "pay_amt_5          2368 non-null float64\n",
      "pay_amt_6          2368 non-null float64\n",
      "limit_balance      2368 non-null float64\n",
      "education_level    2368 non-null float64\n",
      "pay_0              2368 non-null float64\n",
      "pay_2              2368 non-null float64\n",
      "pay_3              2368 non-null float64\n",
      "pay_4              2368 non-null float64\n",
      "pay_5              2368 non-null float64\n",
      "pay_6              2368 non-null float64\n",
      "sex                2368 non-null float64\n",
      "others             2368 non-null float64\n",
      "single             2368 non-null float64\n",
      "dtypes: float64(24)\n",
      "memory usage: 462.5 KB\n"
     ]
    }
   ],
   "source": [
    "# drop the above indices with null values from X_train and y_train\n",
    "\n",
    "X_train.drop([1391, 1867], inplace = True)\n",
    "X_train.info()"
   ]
  },
  {
   "cell_type": "code",
   "execution_count": 24,
   "metadata": {},
   "outputs": [
    {
     "name": "stdout",
     "output_type": "stream",
     "text": [
      "<class 'pandas.core.frame.DataFrame'>\n",
      "RangeIndex: 2370 entries, 0 to 2369\n",
      "Data columns (total 1 columns):\n",
      "credit_card_default    2370 non-null int64\n",
      "dtypes: int64(1)\n",
      "memory usage: 18.6 KB\n"
     ]
    }
   ],
   "source": [
    "# converted y_train into a dataframe so I can deal with null values in x_train\n",
    "\n",
    "y_train = pd.DataFrame(y_train, columns=['credit_card_default'])\n",
    "y_train.info()"
   ]
  },
  {
   "cell_type": "code",
   "execution_count": 25,
   "metadata": {},
   "outputs": [
    {
     "name": "stdout",
     "output_type": "stream",
     "text": [
      "<class 'pandas.core.frame.DataFrame'>\n",
      "Int64Index: 2368 entries, 0 to 2369\n",
      "Data columns (total 1 columns):\n",
      "credit_card_default    2368 non-null int64\n",
      "dtypes: int64(1)\n",
      "memory usage: 37.0 KB\n"
     ]
    }
   ],
   "source": [
    "# drop same rows with null values from y_train\n",
    "\n",
    "y_train.drop([1391, 1867], inplace = True)\n",
    "y_train.info()"
   ]
  },
  {
   "cell_type": "code",
   "execution_count": 26,
   "metadata": {},
   "outputs": [],
   "source": [
    "# split test data into features that will be scaled by dropping categorical features (same process as train data)\n",
    "\n",
    "X_for_scaling2 = x_test.drop(columns=['education_level', \n",
    "        'pay_0', 'pay_2', 'pay_3','pay_4', 'pay_5', 'pay_6', \n",
    "        'sex', 'others', 'single'])"
   ]
  },
  {
   "cell_type": "code",
   "execution_count": 27,
   "metadata": {},
   "outputs": [
    {
     "name": "stderr",
     "output_type": "stream",
     "text": [
      "/Users/laurenfinkelstein/anaconda3/lib/python3.7/site-packages/sklearn/preprocessing/data.py:645: DataConversionWarning: Data with input dtype int64 were all converted to float64 by StandardScaler.\n",
      "  return self.partial_fit(X, y)\n",
      "/Users/laurenfinkelstein/anaconda3/lib/python3.7/site-packages/sklearn/base.py:464: DataConversionWarning: Data with input dtype int64 were all converted to float64 by StandardScaler.\n",
      "  return self.fit(X, **fit_params).transform(X)\n"
     ]
    }
   ],
   "source": [
    "# scale test features\n",
    "\n",
    "X_test_scaled = scaler.fit_transform(X_for_scaling2)"
   ]
  },
  {
   "cell_type": "code",
   "execution_count": 28,
   "metadata": {},
   "outputs": [],
   "source": [
    "# convert those features to dataframe\n",
    "\n",
    "X_test_scaled = pd.DataFrame(X_test_scaled, columns=['age', \n",
    "       'bill_amt_1', 'bill_amt_2', 'bill_amt_3','bill_amt_4', 'bill_amt_5', 'bill_amt_6', \n",
    "       'pay_amt_1', 'pay_amt_2', 'pay_amt_3','pay_amt_4', 'pay_amt_5', 'pay_amt_6', \n",
    "       'limit_balance'])"
   ]
  },
  {
   "cell_type": "code",
   "execution_count": 29,
   "metadata": {},
   "outputs": [
    {
     "data": {
      "text/html": [
       "<div>\n",
       "<style scoped>\n",
       "    .dataframe tbody tr th:only-of-type {\n",
       "        vertical-align: middle;\n",
       "    }\n",
       "\n",
       "    .dataframe tbody tr th {\n",
       "        vertical-align: top;\n",
       "    }\n",
       "\n",
       "    .dataframe thead th {\n",
       "        text-align: right;\n",
       "    }\n",
       "</style>\n",
       "<table border=\"1\" class=\"dataframe\">\n",
       "  <thead>\n",
       "    <tr style=\"text-align: right;\">\n",
       "      <th></th>\n",
       "      <th>age</th>\n",
       "      <th>bill_amt_1</th>\n",
       "      <th>bill_amt_2</th>\n",
       "      <th>bill_amt_3</th>\n",
       "      <th>bill_amt_4</th>\n",
       "      <th>bill_amt_5</th>\n",
       "      <th>bill_amt_6</th>\n",
       "      <th>pay_amt_1</th>\n",
       "      <th>pay_amt_2</th>\n",
       "      <th>pay_amt_3</th>\n",
       "      <th>pay_amt_4</th>\n",
       "      <th>pay_amt_5</th>\n",
       "      <th>pay_amt_6</th>\n",
       "      <th>limit_balance</th>\n",
       "    </tr>\n",
       "  </thead>\n",
       "  <tbody>\n",
       "    <tr>\n",
       "      <th>0</th>\n",
       "      <td>-1.069387</td>\n",
       "      <td>-0.669816</td>\n",
       "      <td>-0.690259</td>\n",
       "      <td>-0.685146</td>\n",
       "      <td>-0.701047</td>\n",
       "      <td>-0.677536</td>\n",
       "      <td>-0.618999</td>\n",
       "      <td>-0.174529</td>\n",
       "      <td>-0.316118</td>\n",
       "      <td>-0.257875</td>\n",
       "      <td>-0.278114</td>\n",
       "      <td>-0.053508</td>\n",
       "      <td>0.005040</td>\n",
       "      <td>-0.677296</td>\n",
       "    </tr>\n",
       "    <tr>\n",
       "      <th>1</th>\n",
       "      <td>-1.181447</td>\n",
       "      <td>0.529878</td>\n",
       "      <td>0.555763</td>\n",
       "      <td>0.595420</td>\n",
       "      <td>0.707323</td>\n",
       "      <td>0.745784</td>\n",
       "      <td>0.783411</td>\n",
       "      <td>-0.160034</td>\n",
       "      <td>-0.201492</td>\n",
       "      <td>-0.114393</td>\n",
       "      <td>-0.118358</td>\n",
       "      <td>-0.108354</td>\n",
       "      <td>-0.126936</td>\n",
       "      <td>-0.521743</td>\n",
       "    </tr>\n",
       "    <tr>\n",
       "      <th>2</th>\n",
       "      <td>-0.621148</td>\n",
       "      <td>-0.726695</td>\n",
       "      <td>-0.724196</td>\n",
       "      <td>-0.683525</td>\n",
       "      <td>-0.715030</td>\n",
       "      <td>-0.689791</td>\n",
       "      <td>-0.671155</td>\n",
       "      <td>-0.329468</td>\n",
       "      <td>-0.312724</td>\n",
       "      <td>-0.322275</td>\n",
       "      <td>-0.349943</td>\n",
       "      <td>-0.218100</td>\n",
       "      <td>-0.213862</td>\n",
       "      <td>-0.366191</td>\n",
       "    </tr>\n",
       "    <tr>\n",
       "      <th>3</th>\n",
       "      <td>-1.405566</td>\n",
       "      <td>-0.140866</td>\n",
       "      <td>-0.111371</td>\n",
       "      <td>-0.280651</td>\n",
       "      <td>-0.251998</td>\n",
       "      <td>-0.190407</td>\n",
       "      <td>-0.177510</td>\n",
       "      <td>-0.243260</td>\n",
       "      <td>-0.316118</td>\n",
       "      <td>-0.271194</td>\n",
       "      <td>-0.324452</td>\n",
       "      <td>-0.234397</td>\n",
       "      <td>-0.196285</td>\n",
       "      <td>-0.910624</td>\n",
       "    </tr>\n",
       "    <tr>\n",
       "      <th>4</th>\n",
       "      <td>0.723570</td>\n",
       "      <td>2.604362</td>\n",
       "      <td>2.571945</td>\n",
       "      <td>2.404252</td>\n",
       "      <td>2.511060</td>\n",
       "      <td>2.601686</td>\n",
       "      <td>2.431268</td>\n",
       "      <td>0.173286</td>\n",
       "      <td>0.099860</td>\n",
       "      <td>0.150625</td>\n",
       "      <td>0.294966</td>\n",
       "      <td>0.047505</td>\n",
       "      <td>-0.015585</td>\n",
       "      <td>1.500438</td>\n",
       "    </tr>\n",
       "  </tbody>\n",
       "</table>\n",
       "</div>"
      ],
      "text/plain": [
       "        age  bill_amt_1  bill_amt_2  bill_amt_3  bill_amt_4  bill_amt_5  \\\n",
       "0 -1.069387   -0.669816   -0.690259   -0.685146   -0.701047   -0.677536   \n",
       "1 -1.181447    0.529878    0.555763    0.595420    0.707323    0.745784   \n",
       "2 -0.621148   -0.726695   -0.724196   -0.683525   -0.715030   -0.689791   \n",
       "3 -1.405566   -0.140866   -0.111371   -0.280651   -0.251998   -0.190407   \n",
       "4  0.723570    2.604362    2.571945    2.404252    2.511060    2.601686   \n",
       "\n",
       "   bill_amt_6  pay_amt_1  pay_amt_2  pay_amt_3  pay_amt_4  pay_amt_5  \\\n",
       "0   -0.618999  -0.174529  -0.316118  -0.257875  -0.278114  -0.053508   \n",
       "1    0.783411  -0.160034  -0.201492  -0.114393  -0.118358  -0.108354   \n",
       "2   -0.671155  -0.329468  -0.312724  -0.322275  -0.349943  -0.218100   \n",
       "3   -0.177510  -0.243260  -0.316118  -0.271194  -0.324452  -0.234397   \n",
       "4    2.431268   0.173286   0.099860   0.150625   0.294966   0.047505   \n",
       "\n",
       "   pay_amt_6  limit_balance  \n",
       "0   0.005040      -0.677296  \n",
       "1  -0.126936      -0.521743  \n",
       "2  -0.213862      -0.366191  \n",
       "3  -0.196285      -0.910624  \n",
       "4  -0.015585       1.500438  "
      ]
     },
     "execution_count": 29,
     "metadata": {},
     "output_type": "execute_result"
    }
   ],
   "source": [
    "X_test_scaled.head()"
   ]
  },
  {
   "cell_type": "code",
   "execution_count": 30,
   "metadata": {},
   "outputs": [],
   "source": [
    "# merge with categorical features that weren't scaled\n",
    "\n",
    "# X_test = pd.merge(X_test_scaled, x_test.drop(columns=['age',  \n",
    "#         'bill_amt_1', 'bill_amt_2', 'bill_amt_3', 'bill_amt_4', 'bill_amt_5', 'bill_amt_6', \n",
    "#         'pay_amt_1', 'pay_amt_2', 'pay_amt_3', 'pay_amt_4', 'pay_amt_5', 'pay_amt_6', \n",
    "#          'limit_balance']).reset_index(drop=True), left_index=True, right_index=True)\n",
    "\n",
    "X_test = X_test_scaled.join(x_test.drop(columns=['age', \n",
    "       'bill_amt_1', 'bill_amt_2', 'bill_amt_3','bill_amt_4', 'bill_amt_5', 'bill_amt_6', \n",
    "       'pay_amt_1', 'pay_amt_2', 'pay_amt_3','pay_amt_4', 'pay_amt_5', 'pay_amt_6', \n",
    "       'limit_balance']).reset_index(drop=True))"
   ]
  },
  {
   "cell_type": "code",
   "execution_count": 31,
   "metadata": {},
   "outputs": [
    {
     "data": {
      "text/html": [
       "<div>\n",
       "<style scoped>\n",
       "    .dataframe tbody tr th:only-of-type {\n",
       "        vertical-align: middle;\n",
       "    }\n",
       "\n",
       "    .dataframe tbody tr th {\n",
       "        vertical-align: top;\n",
       "    }\n",
       "\n",
       "    .dataframe thead th {\n",
       "        text-align: right;\n",
       "    }\n",
       "</style>\n",
       "<table border=\"1\" class=\"dataframe\">\n",
       "  <thead>\n",
       "    <tr style=\"text-align: right;\">\n",
       "      <th></th>\n",
       "      <th>age</th>\n",
       "      <th>bill_amt_1</th>\n",
       "      <th>bill_amt_2</th>\n",
       "      <th>bill_amt_3</th>\n",
       "      <th>bill_amt_4</th>\n",
       "      <th>bill_amt_5</th>\n",
       "      <th>bill_amt_6</th>\n",
       "      <th>pay_amt_1</th>\n",
       "      <th>pay_amt_2</th>\n",
       "      <th>pay_amt_3</th>\n",
       "      <th>pay_amt_4</th>\n",
       "      <th>pay_amt_5</th>\n",
       "      <th>pay_amt_6</th>\n",
       "      <th>limit_balance</th>\n",
       "      <th>education_level</th>\n",
       "      <th>pay_0</th>\n",
       "      <th>pay_2</th>\n",
       "      <th>pay_3</th>\n",
       "      <th>pay_4</th>\n",
       "      <th>pay_5</th>\n",
       "      <th>pay_6</th>\n",
       "      <th>sex</th>\n",
       "      <th>others</th>\n",
       "      <th>single</th>\n",
       "    </tr>\n",
       "  </thead>\n",
       "  <tbody>\n",
       "    <tr>\n",
       "      <th>0</th>\n",
       "      <td>-1.069387</td>\n",
       "      <td>-0.669816</td>\n",
       "      <td>-0.690259</td>\n",
       "      <td>-0.685146</td>\n",
       "      <td>-0.701047</td>\n",
       "      <td>-0.677536</td>\n",
       "      <td>-0.618999</td>\n",
       "      <td>-0.174529</td>\n",
       "      <td>-0.316118</td>\n",
       "      <td>-0.257875</td>\n",
       "      <td>-0.278114</td>\n",
       "      <td>-0.053508</td>\n",
       "      <td>0.005040</td>\n",
       "      <td>-0.677296</td>\n",
       "      <td>3.0</td>\n",
       "      <td>0</td>\n",
       "      <td>0</td>\n",
       "      <td>0</td>\n",
       "      <td>0</td>\n",
       "      <td>0</td>\n",
       "      <td>0</td>\n",
       "      <td>0</td>\n",
       "      <td>0</td>\n",
       "      <td>1</td>\n",
       "    </tr>\n",
       "    <tr>\n",
       "      <th>1</th>\n",
       "      <td>-1.181447</td>\n",
       "      <td>0.529878</td>\n",
       "      <td>0.555763</td>\n",
       "      <td>0.595420</td>\n",
       "      <td>0.707323</td>\n",
       "      <td>0.745784</td>\n",
       "      <td>0.783411</td>\n",
       "      <td>-0.160034</td>\n",
       "      <td>-0.201492</td>\n",
       "      <td>-0.114393</td>\n",
       "      <td>-0.118358</td>\n",
       "      <td>-0.108354</td>\n",
       "      <td>-0.126936</td>\n",
       "      <td>-0.521743</td>\n",
       "      <td>2.0</td>\n",
       "      <td>0</td>\n",
       "      <td>0</td>\n",
       "      <td>0</td>\n",
       "      <td>0</td>\n",
       "      <td>0</td>\n",
       "      <td>0</td>\n",
       "      <td>1</td>\n",
       "      <td>0</td>\n",
       "      <td>1</td>\n",
       "    </tr>\n",
       "    <tr>\n",
       "      <th>2</th>\n",
       "      <td>-0.621148</td>\n",
       "      <td>-0.726695</td>\n",
       "      <td>-0.724196</td>\n",
       "      <td>-0.683525</td>\n",
       "      <td>-0.715030</td>\n",
       "      <td>-0.689791</td>\n",
       "      <td>-0.671155</td>\n",
       "      <td>-0.329468</td>\n",
       "      <td>-0.312724</td>\n",
       "      <td>-0.322275</td>\n",
       "      <td>-0.349943</td>\n",
       "      <td>-0.218100</td>\n",
       "      <td>-0.213862</td>\n",
       "      <td>-0.366191</td>\n",
       "      <td>1.0</td>\n",
       "      <td>0</td>\n",
       "      <td>0</td>\n",
       "      <td>0</td>\n",
       "      <td>0</td>\n",
       "      <td>0</td>\n",
       "      <td>0</td>\n",
       "      <td>0</td>\n",
       "      <td>0</td>\n",
       "      <td>0</td>\n",
       "    </tr>\n",
       "    <tr>\n",
       "      <th>3</th>\n",
       "      <td>-1.405566</td>\n",
       "      <td>-0.140866</td>\n",
       "      <td>-0.111371</td>\n",
       "      <td>-0.280651</td>\n",
       "      <td>-0.251998</td>\n",
       "      <td>-0.190407</td>\n",
       "      <td>-0.177510</td>\n",
       "      <td>-0.243260</td>\n",
       "      <td>-0.316118</td>\n",
       "      <td>-0.271194</td>\n",
       "      <td>-0.324452</td>\n",
       "      <td>-0.234397</td>\n",
       "      <td>-0.196285</td>\n",
       "      <td>-0.910624</td>\n",
       "      <td>2.0</td>\n",
       "      <td>0</td>\n",
       "      <td>0</td>\n",
       "      <td>0</td>\n",
       "      <td>0</td>\n",
       "      <td>0</td>\n",
       "      <td>0</td>\n",
       "      <td>0</td>\n",
       "      <td>0</td>\n",
       "      <td>0</td>\n",
       "    </tr>\n",
       "    <tr>\n",
       "      <th>4</th>\n",
       "      <td>0.723570</td>\n",
       "      <td>2.604362</td>\n",
       "      <td>2.571945</td>\n",
       "      <td>2.404252</td>\n",
       "      <td>2.511060</td>\n",
       "      <td>2.601686</td>\n",
       "      <td>2.431268</td>\n",
       "      <td>0.173286</td>\n",
       "      <td>0.099860</td>\n",
       "      <td>0.150625</td>\n",
       "      <td>0.294966</td>\n",
       "      <td>0.047505</td>\n",
       "      <td>-0.015585</td>\n",
       "      <td>1.500438</td>\n",
       "      <td>1.0</td>\n",
       "      <td>0</td>\n",
       "      <td>0</td>\n",
       "      <td>0</td>\n",
       "      <td>0</td>\n",
       "      <td>0</td>\n",
       "      <td>0</td>\n",
       "      <td>1</td>\n",
       "      <td>0</td>\n",
       "      <td>0</td>\n",
       "    </tr>\n",
       "  </tbody>\n",
       "</table>\n",
       "</div>"
      ],
      "text/plain": [
       "        age  bill_amt_1  bill_amt_2  bill_amt_3  bill_amt_4  bill_amt_5  \\\n",
       "0 -1.069387   -0.669816   -0.690259   -0.685146   -0.701047   -0.677536   \n",
       "1 -1.181447    0.529878    0.555763    0.595420    0.707323    0.745784   \n",
       "2 -0.621148   -0.726695   -0.724196   -0.683525   -0.715030   -0.689791   \n",
       "3 -1.405566   -0.140866   -0.111371   -0.280651   -0.251998   -0.190407   \n",
       "4  0.723570    2.604362    2.571945    2.404252    2.511060    2.601686   \n",
       "\n",
       "   bill_amt_6  pay_amt_1  pay_amt_2  pay_amt_3  pay_amt_4  pay_amt_5  \\\n",
       "0   -0.618999  -0.174529  -0.316118  -0.257875  -0.278114  -0.053508   \n",
       "1    0.783411  -0.160034  -0.201492  -0.114393  -0.118358  -0.108354   \n",
       "2   -0.671155  -0.329468  -0.312724  -0.322275  -0.349943  -0.218100   \n",
       "3   -0.177510  -0.243260  -0.316118  -0.271194  -0.324452  -0.234397   \n",
       "4    2.431268   0.173286   0.099860   0.150625   0.294966   0.047505   \n",
       "\n",
       "   pay_amt_6  limit_balance  education_level  pay_0  pay_2  pay_3  pay_4  \\\n",
       "0   0.005040      -0.677296              3.0      0      0      0      0   \n",
       "1  -0.126936      -0.521743              2.0      0      0      0      0   \n",
       "2  -0.213862      -0.366191              1.0      0      0      0      0   \n",
       "3  -0.196285      -0.910624              2.0      0      0      0      0   \n",
       "4  -0.015585       1.500438              1.0      0      0      0      0   \n",
       "\n",
       "   pay_5  pay_6  sex  others  single  \n",
       "0      0      0    0       0       1  \n",
       "1      0      0    1       0       1  \n",
       "2      0      0    0       0       0  \n",
       "3      0      0    0       0       0  \n",
       "4      0      0    1       0       0  "
      ]
     },
     "execution_count": 31,
     "metadata": {},
     "output_type": "execute_result"
    }
   ],
   "source": [
    "X_test.head()"
   ]
  },
  {
   "cell_type": "code",
   "execution_count": 32,
   "metadata": {},
   "outputs": [
    {
     "name": "stdout",
     "output_type": "stream",
     "text": [
      "<class 'pandas.core.frame.DataFrame'>\n",
      "RangeIndex: 593 entries, 0 to 592\n",
      "Data columns (total 24 columns):\n",
      "age                593 non-null float64\n",
      "bill_amt_1         593 non-null float64\n",
      "bill_amt_2         593 non-null float64\n",
      "bill_amt_3         593 non-null float64\n",
      "bill_amt_4         593 non-null float64\n",
      "bill_amt_5         593 non-null float64\n",
      "bill_amt_6         593 non-null float64\n",
      "pay_amt_1          593 non-null float64\n",
      "pay_amt_2          593 non-null float64\n",
      "pay_amt_3          593 non-null float64\n",
      "pay_amt_4          593 non-null float64\n",
      "pay_amt_5          593 non-null float64\n",
      "pay_amt_6          593 non-null float64\n",
      "limit_balance      593 non-null float64\n",
      "education_level    593 non-null float64\n",
      "pay_0              593 non-null int64\n",
      "pay_2              593 non-null int64\n",
      "pay_3              593 non-null int64\n",
      "pay_4              593 non-null int64\n",
      "pay_5              593 non-null int64\n",
      "pay_6              593 non-null int64\n",
      "sex                593 non-null int64\n",
      "others             593 non-null uint8\n",
      "single             593 non-null uint8\n",
      "dtypes: float64(15), int64(7), uint8(2)\n",
      "memory usage: 103.2 KB\n"
     ]
    }
   ],
   "source": [
    "X_test.info()"
   ]
  },
  {
   "cell_type": "code",
   "execution_count": null,
   "metadata": {},
   "outputs": [],
   "source": [
    "# pickle column names to use later in Flask app\n",
    "\n",
    "column_names = list(X_train.columns)\n",
    "\n",
    "with open('column_names.pkl', 'wb') as f:\n",
    "    pickle.dump(column_names, f)"
   ]
  },
  {
   "cell_type": "markdown",
   "metadata": {},
   "source": [
    "# Modeling Round I\n",
    "\n",
    "- KNN\n",
    "- Logistic Regression\n",
    "- SVM\n",
    "- Naive Bayes\n",
    "- Random Forest\n",
    "- XGBoost ?"
   ]
  },
  {
   "cell_type": "code",
   "execution_count": null,
   "metadata": {},
   "outputs": [],
   "source": [
    "# Helper function for printing confusion matrices (see: https://gist.github.com/shaypal5/94c53d765083101efc0240d776a23823)\n",
    "\n",
    "def print_confusion_matrix(confusion_matrix, class_names, figsize = (10,7), fontsize=18):\n",
    "    \"\"\"Prints a confusion matrix, as returned by sklearn.metrics.confusion_matrix, as a heatmap.\n",
    "    \n",
    "    Arguments\n",
    "    ---------\n",
    "    confusion_matrix: numpy.ndarray\n",
    "        The numpy.ndarray object returned from a call to sklearn.metrics.confusion_matrix. \n",
    "        Similarly constructed ndarrays can also be used.\n",
    "    class_names: list\n",
    "        An ordered list of class names, in the order they index the given confusion matrix.\n",
    "    figsize: tuple\n",
    "        A 2-long tuple, the first value determining the horizontal size of the ouputted figure,\n",
    "        the second determining the vertical size. Defaults to (10,7).\n",
    "    fontsize: int\n",
    "        Font size for axes labels. Defaults to 14.\n",
    "        \n",
    "    Returns\n",
    "    -------\n",
    "    matplotlib.figure.Figure\n",
    "        The resulting confusion matrix figure\n",
    "    \"\"\"\n",
    "    df_cm = pd.DataFrame(confusion_matrix, index=class_names, columns=class_names, )\n",
    "    fig = plt.figure(figsize=figsize)\n",
    "    try:\n",
    "        heatmap = sns.heatmap(df_cm, annot=True, fmt=\"d\")\n",
    "    except ValueError:\n",
    "        raise ValueError(\"Confusion matrix values must be integers.\")\n",
    "    heatmap.yaxis.set_ticklabels(heatmap.yaxis.get_ticklabels(), rotation=0, ha='right', fontsize=fontsize)\n",
    "    heatmap.xaxis.set_ticklabels(heatmap.xaxis.get_ticklabels(), rotation=45, ha='right', fontsize=fontsize)\n",
    "    plt.ylabel('True label')\n",
    "    plt.xlabel('Predicted label')\n",
    "    return fig"
   ]
  },
  {
   "cell_type": "markdown",
   "metadata": {},
   "source": [
    "### Random Forest GridSearchCV"
   ]
  },
  {
   "cell_type": "code",
   "execution_count": null,
   "metadata": {},
   "outputs": [],
   "source": [
    "# Run CV with 5 folds (Random Forest)\n",
    "\n",
    "# Create the parameter grid based on the results of random search \n",
    "param_grid = {\n",
    "    'bootstrap': [True],\n",
    "    'max_depth': [50, 100, None],\n",
    "    'max_features': ['sqrt'], # what is this?\n",
    "    'min_samples_leaf': [1, 2, 5, 10],\n",
    "    'min_samples_split': [2, 3, 5, 10],\n",
    "    'n_estimators': [100, 200, 400, 1000]\n",
    "}\n",
    "\n",
    "rf = RandomForestClassifier()\n",
    "rf_grid = GridSearchCV(estimator=rf, param_grid=param_grid, cv=5, scoring='roc_auc', verbose=10, n_jobs=-1)\n",
    "rf_grid.fit(X_train, y_train)"
   ]
  },
  {
   "cell_type": "code",
   "execution_count": null,
   "metadata": {},
   "outputs": [],
   "source": [
    "rf_grid.best_params_"
   ]
  },
  {
   "cell_type": "code",
   "execution_count": null,
   "metadata": {},
   "outputs": [],
   "source": [
    "rf_grid.best_estimator_"
   ]
  },
  {
   "cell_type": "code",
   "execution_count": null,
   "metadata": {},
   "outputs": [],
   "source": [
    "# rf_model with best params\n",
    "\n",
    "rf_model = RandomForestClassifier(bootstrap = True, max_depth = None, max_features = 'sqrt', min_samples_leaf = 10, \n",
    "                                  min_samples_split = 10, n_estimators = 200)\n"
   ]
  },
  {
   "cell_type": "code",
   "execution_count": null,
   "metadata": {},
   "outputs": [],
   "source": [
    "# final model to pickle to use in Flask app\n",
    "\n",
    "model = rf_model.fit(X_train, np.array(y_train))"
   ]
  },
  {
   "cell_type": "code",
   "execution_count": null,
   "metadata": {},
   "outputs": [],
   "source": [
    "# pickling final model for Flask app\n",
    "\n",
    "filename = 'credit_card_default_model.sav'\n",
    "pickle.dump(model, open(filename, 'wb'))\n",
    "\n"
   ]
  },
  {
   "cell_type": "code",
   "execution_count": null,
   "metadata": {
    "scrolled": false
   },
   "outputs": [],
   "source": [
    "cm = print_confusion_matrix(confusion_matrix(y_train, rf_grid.predict(X_train)), ['Class 0', 'Class 1'], figsize=(5, 4), fontsize=15)"
   ]
  },
  {
   "cell_type": "code",
   "execution_count": null,
   "metadata": {
    "scrolled": true
   },
   "outputs": [],
   "source": [
    "# Random Forest Feature Importances\n",
    "\n",
    "rf2 = RandomForestRegressor(n_estimators=200, max_depth = None)\n",
    "rf2.fit(X_train, y_train)\n",
    "rf2.feature_importances_"
   ]
  },
  {
   "cell_type": "code",
   "execution_count": null,
   "metadata": {},
   "outputs": [],
   "source": [
    "# zip each feature importance weight with my columns\n",
    "\n",
    "rf_feature_importances = pd.DataFrame(zip(list(rf2.feature_importances_), X_train.columns), columns=['feature_importances', 'feature_names'])\n",
    "rf_feature_importances.sort_values(by='feature_importances', ascending=False)"
   ]
  },
  {
   "cell_type": "markdown",
   "metadata": {},
   "source": [
    "### Scoring the models"
   ]
  },
  {
   "cell_type": "markdown",
   "metadata": {},
   "source": [
    "#### ROC_AUC"
   ]
  },
  {
   "cell_type": "code",
   "execution_count": null,
   "metadata": {},
   "outputs": [],
   "source": [
    "print('Best ROC_AUC for rf: %0.4f' % rf_grid.best_score_)"
   ]
  },
  {
   "cell_type": "markdown",
   "metadata": {},
   "source": [
    "#### F1"
   ]
  },
  {
   "cell_type": "code",
   "execution_count": null,
   "metadata": {},
   "outputs": [],
   "source": [
    "# score on F1\n",
    "\n",
    "# from sklearn.metrics import f1_score\n",
    "\n",
    "# y_true = \n",
    "# y_pred = \n",
    "\n",
    "# f1_score(y_true, y_pred, average='macro')  \n",
    "\n",
    "# f1_score(y_true, y_pred, average='micro')  \n",
    "\n",
    "# f1_score(y_true, y_pred, average='weighted')  \n",
    "\n",
    "# f1_score(y_true, y_pred, average=None)\n"
   ]
  },
  {
   "cell_type": "markdown",
   "metadata": {},
   "source": [
    "#### Best parameters"
   ]
  },
  {
   "cell_type": "code",
   "execution_count": null,
   "metadata": {},
   "outputs": [],
   "source": [
    "print('Best Params for rf: ', rf_grid.best_params_)"
   ]
  },
  {
   "cell_type": "markdown",
   "metadata": {},
   "source": [
    "#### NOTE QUESTIONS IN BELOW COMMENTED CODE"
   ]
  },
  {
   "cell_type": "code",
   "execution_count": null,
   "metadata": {},
   "outputs": [],
   "source": [
    "# ROC for all the models\n",
    "\n",
    "# ARE THE X/Y VARIABLES THE CORRECT ONES TO USE HERE?\n",
    "# How does the ensembe work?\n",
    "\n",
    "# How to add new models above into this? E.g., Linear SVC, \n",
    "\n",
    "model_list = [knn_grid.best_estimator_, \n",
    "              logistic_grid.best_estimator_, \n",
    "              svm_grid.best_estimator_, \n",
    "              gnb_best, \n",
    "              rf_grid.best_estimator_,\n",
    "              'ensemble']\n",
    "model_name = ['knn', 'logit', 'svm', 'n_bayes', 'random_forest', 'ensemble']\n",
    "\n",
    "# Plot ROC curve for all my models\n",
    "fig, ax = plt.subplots(figsize=(10,8))\n",
    "for i, model in enumerate(model_list):\n",
    "    if model == 'ensemble':\n",
    "        w1 = 0.10\n",
    "        w2 = 0.80\n",
    "        y_pred = (w1*logistic_grid.best_estimator_.predict_proba(x_norm_test)[:,1] \n",
    "                  + w2*rf_grid.best_estimator_.predict_proba(x_norm_test)[:,1]\n",
    "                  + (1-w1-w2)*gnb_best.predict_proba(x_norm_test)[:,1])\n",
    "    else:\n",
    "        y_pred = list(model.predict_proba(x_norm_test)[:,1])\n",
    "    fpr, tpr, threshold = metrics.roc_curve(y_test, y_pred)\n",
    "    roc_auc = metrics.auc(fpr, tpr)\n",
    "    plt.plot(fpr, tpr, label = (model_name[i] + ' AUC = %0.4f' % roc_auc))\n",
    "\n",
    "plt.legend(loc = 'lower right')\n",
    "plt.title('Receiver Operating Characteristic')\n",
    "plt.plot([0, 1], [0, 1],'r--')\n",
    "plt.xlim([0, 1])\n",
    "plt.ylim([0, 1])\n",
    "plt.ylabel('True Positive Rate')\n",
    "plt.xlabel('False Positive Rate')\n",
    "plt.show()"
   ]
  }
 ],
 "metadata": {
  "kernelspec": {
   "display_name": "Python 3",
   "language": "python",
   "name": "python3"
  },
  "language_info": {
   "codemirror_mode": {
    "name": "ipython",
    "version": 3
   },
   "file_extension": ".py",
   "mimetype": "text/x-python",
   "name": "python",
   "nbconvert_exporter": "python",
   "pygments_lexer": "ipython3",
   "version": "3.7.2"
  }
 },
 "nbformat": 4,
 "nbformat_minor": 2
}
